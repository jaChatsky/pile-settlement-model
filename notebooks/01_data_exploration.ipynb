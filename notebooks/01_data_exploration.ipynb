# 01_data_exploration.ipynb
# Exploratory Data Analysis for Pile Settlement Data

from src.eda import run_eda
run_eda(target_col = "S-mm")
